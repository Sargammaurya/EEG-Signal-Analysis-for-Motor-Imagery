{
  "nbformat": 4,
  "nbformat_minor": 0,
  "metadata": {
    "colab": {
      "provenance": []
    },
    "kernelspec": {
      "name": "python3",
      "display_name": "Python 3"
    },
    "language_info": {
      "name": "python"
    },
    "accelerator": "GPU"
  },
  "cells": [
    {
      "cell_type": "markdown",
      "source": [
        "# All"
      ],
      "metadata": {
        "id": "WxWOJj8njHLQ"
      }
    },
    {
      "cell_type": "code",
      "execution_count": null,
      "metadata": {
        "colab": {
          "base_uri": "https://localhost:8080/"
        },
        "id": "BxGS_VnsTYV0",
        "outputId": "830906e1-1235-438b-fec3-5d770fece53a"
      },
      "outputs": [
        {
          "output_type": "stream",
          "name": "stdout",
          "text": [
            "Mounted at /content/drive\n"
          ]
        }
      ],
      "source": [
        "from google.colab import drive\n",
        "drive.mount('/content/drive')"
      ]
    },
    {
      "cell_type": "code",
      "source": [
        "%cd /content/drive/MyDrive/"
      ],
      "metadata": {
        "colab": {
          "base_uri": "https://localhost:8080/"
        },
        "id": "F4Uq9fXQTc6Y",
        "outputId": "93b27dc0-4319-4212-c282-6ef39abb57e2"
      },
      "execution_count": null,
      "outputs": [
        {
          "output_type": "stream",
          "name": "stdout",
          "text": [
            "/content/drive/MyDrive\n"
          ]
        }
      ]
    },
    {
      "cell_type": "code",
      "source": [
        "!pwd"
      ],
      "metadata": {
        "colab": {
          "base_uri": "https://localhost:8080/"
        },
        "id": "xurOXCBRTeSO",
        "outputId": "023c29db-0e1f-4aea-f48f-049ca5f3a1a9"
      },
      "execution_count": null,
      "outputs": [
        {
          "output_type": "stream",
          "name": "stdout",
          "text": [
            "/content/drive/MyDrive\n"
          ]
        }
      ]
    },
    {
      "cell_type": "code",
      "source": [
        "import matplotlib\n",
        "import matplotlib.pyplot as plt\n",
        "%matplotlib inline\n",
        "import pathlib\n",
        "from glob import glob\n",
        "import pickle\n",
        "from scipy.io import loadmat, savemat\n",
        "import os\n",
        "import numpy as np\n",
        "import pandas as pd\n",
        "import scipy\n",
        "import librosa\n",
        "import cv2\n",
        "\n",
        "import tensorflow as tf\n",
        "from tensorflow import keras\n",
        "from tensorflow.keras import layers\n",
        "from sklearn.metrics import accuracy_score, f1_score, confusion_matrix\n",
        "\n",
        "print(tf.__version__)"
      ],
      "metadata": {
        "colab": {
          "base_uri": "https://localhost:8080/"
        },
        "id": "F_2lLTn7TfEj",
        "outputId": "6a6b6c39-3cde-4615-9f33-50b06a903580"
      },
      "execution_count": null,
      "outputs": [
        {
          "output_type": "stream",
          "name": "stdout",
          "text": [
            "2.9.2\n"
          ]
        }
      ]
    },
    {
      "cell_type": "code",
      "source": [
        "loc = \"Xy_filtereddata/\"\n",
        "subject = \"A01.pkl\"\n",
        "location = loc+subject"
      ],
      "metadata": {
        "id": "5gARBkkiTimW"
      },
      "execution_count": null,
      "outputs": []
    },
    {
      "cell_type": "code",
      "source": [
        "f = open(location, 'rb')\n",
        "savedict= pickle.load(f)\n",
        "train_data=savedict['Xtrain']\n",
        "test_data=savedict['Xtest']\n",
        "train_labels=savedict['ytrain']\n",
        "test_labels=savedict['ytest']\n",
        "\n",
        "num_classes = 4\n",
        "train_labels = train_labels.reshape(-1, 1) - 1\n",
        "test_labels = test_labels.reshape(-1, 1) - 1\n",
        "train_labels = tf.keras.utils.to_categorical(train_labels, num_classes)\n",
        "test_labels = tf.keras.utils.to_categorical(test_labels, num_classes)\n",
        "print(train_data.shape)\n",
        "print(train_labels.shape)"
      ],
      "metadata": {
        "colab": {
          "base_uri": "https://localhost:8080/"
        },
        "id": "kEcnARLaTmH_",
        "outputId": "b10a688a-0db8-4f55-e130-f144e7596566"
      },
      "execution_count": null,
      "outputs": [
        {
          "output_type": "stream",
          "name": "stdout",
          "text": [
            "(288, 22, 875)\n",
            "(288, 4)\n"
          ]
        }
      ]
    },
    {
      "cell_type": "code",
      "source": [
        "# The signal is band-pass filtered from 8 - 30 Hz, but the sampling rate is 250 Hz. Hence, downsampling the signals\n",
        "train_data = scipy.signal.decimate(train_data, 4)\n",
        "test_data = scipy.signal.decimate(test_data, 4)"
      ],
      "metadata": {
        "id": "ZwhbwKRyToOR"
      },
      "execution_count": null,
      "outputs": []
    },
    {
      "cell_type": "code",
      "source": [
        "_, __, spec_train = scipy.signal.spectrogram(train_data, fs = 62.5, noverlap = 50, nperseg = 60, nfft = 60)\n",
        "_, __, spec_test = scipy.signal.spectrogram(test_data, fs = 62.5, noverlap = 50, nperseg = 60, nfft = 60)\n",
        "del _\n",
        "del __"
      ],
      "metadata": {
        "id": "XyeKngPETp6A"
      },
      "execution_count": null,
      "outputs": []
    },
    {
      "cell_type": "code",
      "source": [
        "spec_train.shape"
      ],
      "metadata": {
        "colab": {
          "base_uri": "https://localhost:8080/"
        },
        "id": "L7tK9FrBXvhI",
        "outputId": "1c6b6d94-658c-42bd-be2b-1e14a363b265"
      },
      "execution_count": null,
      "outputs": [
        {
          "output_type": "execute_result",
          "data": {
            "text/plain": [
              "(288, 22, 31, 16)"
            ]
          },
          "metadata": {},
          "execution_count": 22
        }
      ]
    },
    {
      "cell_type": "code",
      "source": [
        "# Only taking three channels\n",
        "temp = np.zeros([288, 124, 88, 3])\n",
        "for s in range(spec_train.shape[0]):\n",
        "  i = 0\n",
        "  for c in [7, 9, 11]:\n",
        "    temp[s, :, :, i] = cv2.resize(spec_train[s, c, :, :], dsize=(88, 124), interpolation = cv2.INTER_AREA)\n",
        "    i = i+ 1\n",
        "spec_train = temp.copy()\n",
        "\n",
        "for s in range(spec_test.shape[0]):\n",
        "  i = 0\n",
        "  for c in [7, 9, 11]:\n",
        "    temp[s, :, :, i] = cv2.resize(spec_test[s, c, :, :], dsize=(88, 124), interpolation = cv2.INTER_AREA)\n",
        "    i = i + 1\n",
        "spec_test = temp.copy()\n",
        "del temp"
      ],
      "metadata": {
        "id": "8lVcI-OuTuQl"
      },
      "execution_count": null,
      "outputs": []
    },
    {
      "cell_type": "code",
      "source": [
        "spec_train = tf.keras.utils.normalize(spec_train)\n",
        "spec_test = tf.keras.utils.normalize(spec_test)\n",
        "plt.pcolormesh(spec_test[0, :, :, 0])"
      ],
      "metadata": {
        "colab": {
          "base_uri": "https://localhost:8080/",
          "height": 282
        },
        "id": "iryT2K6vT6lP",
        "outputId": "66ab763d-9253-479f-e26b-0dac4ab87c00"
      },
      "execution_count": null,
      "outputs": [
        {
          "output_type": "execute_result",
          "data": {
            "text/plain": [
              "<matplotlib.collections.QuadMesh at 0x7eff73aed210>"
            ]
          },
          "metadata": {},
          "execution_count": 24
        },
        {
          "output_type": "display_data",
          "data": {
            "text/plain": [
              "<Figure size 432x288 with 1 Axes>"
            ],
            "image/png": "[encoded data removed]"
          },
          "metadata": {
            "needs_background": "light"
          }
        }
      ]
    },
    {
      "cell_type": "markdown",
      "source": [
        "## ML"
      ],
      "metadata": {
        "id": "sBc7IHLGRgTQ"
      }
    },
    {
      "cell_type": "code",
      "source": [
        "from keras.applications import InceptionV3, ResNet50\n",
        "IV3 = ResNet50(include_top= False, weights='imagenet', input_shape = (124, 88, 3))"
      ],
      "metadata": {
        "id": "wDyxYzlQ4HV8"
      },
      "execution_count": null,
      "outputs": []
    },
    {
      "cell_type": "code",
      "source": [
        "IV3.trainable = False\n",
        "i = 0\n",
        "for layer in IV3.layers:\n",
        "  if i>500:\n",
        "    break\n",
        "  layer.trainable = False\n",
        "  i = i + 1\n",
        "\n",
        "pd.set_option('max_colwidth', -1)\n",
        "layers = [(layer, layer.name, layer.trainable) for layer in IV3.layers]\n",
        "pd.DataFrame(layers, columns=['Layer Type', 'Layer Name', 'Layer Trainable'])"
      ],
      "metadata": {
        "colab": {
          "base_uri": "https://localhost:8080/",
          "height": 478
        },
        "id": "3Q5c09uC4LRU",
        "outputId": "d9ac8910-f709-4ed7-c17f-859056585d39"
      },
      "execution_count": null,
      "outputs": [
        {
          "output_type": "stream",
          "name": "stderr",
          "text": [
            "/usr/local/lib/python3.7/dist-packages/ipykernel_launcher.py:9: FutureWarning: Passing a negative integer is deprecated in version 1.0 and will not be supported in future version. Instead, use None to not limit the column width.\n",
            "  if __name__ == '__main__':\n"
          ]
        },
        {
          "output_type": "execute_result",
          "data": {
            "text/plain": [
              "                                                                                       Layer Type  \\\n",
              "0    <keras.engine.input_layer.InputLayer object at 0x7efed45eba50>                                 \n",
              "1    <keras.layers.reshaping.zero_padding2d.ZeroPadding2D object at 0x7efed5373b10>                 \n",
              "2    <keras.layers.convolutional.conv2d.Conv2D object at 0x7efed5373c10>                            \n",
              "3    <keras.layers.normalization.batch_normalization.BatchNormalization object at 0x7efee7ce8e90>   \n",
              "4    <keras.layers.core.activation.Activation object at 0x7efed45d6810>                             \n",
              "..                                                                  ...                             \n",
              "170  <keras.layers.core.activation.Activation object at 0x7eff0c0e2b50>                             \n",
              "171  <keras.layers.convolutional.conv2d.Conv2D object at 0x7efe6a0fa250>                            \n",
              "172  <keras.layers.normalization.batch_normalization.BatchNormalization object at 0x7efee6b95650>   \n",
              "173  <keras.layers.merging.add.Add object at 0x7efed41c3e10>                                        \n",
              "174  <keras.layers.core.activation.Activation object at 0x7efee68df0d0>                             \n",
              "\n",
              "              Layer Name  Layer Trainable  \n",
              "0    input_9              False            \n",
              "1    conv1_pad            False            \n",
              "2    conv1_conv           False            \n",
              "3    conv1_bn             False            \n",
              "4    conv1_relu           False            \n",
              "..          ...             ...            \n",
              "170  conv5_block3_2_relu  False            \n",
              "171  conv5_block3_3_conv  False            \n",
              "172  conv5_block3_3_bn    False            \n",
              "173  conv5_block3_add     False            \n",
              "174  conv5_block3_out     False            \n",
              "\n",
              "[175 rows x 3 columns]"
            ],
            "text/html": [
              "\n",
              "  <div id=\"df-e72b496e-555d-4b57-81db-4660bcb2f525\">\n",
              "    <div class=\"colab-df-container\">\n",
              "      <div>\n",
              "<style scoped>\n",
              "    .dataframe tbody tr th:only-of-type {\n",
              "        vertical-align: middle;\n",
              "    }\n",
              "\n",
              "    .dataframe tbody tr th {\n",
              "        vertical-align: top;\n",
              "    }\n",
              "\n",
              "    .dataframe thead th {\n",
              "        text-align: right;\n",
              "    }\n",
              "</style>\n",
              "<table border=\"1\" class=\"dataframe\">\n",
              "  <thead>\n",
              "    <tr style=\"text-align: right;\">\n",
              "      <th></th>\n",
              "      <th>Layer Type</th>\n",
              "      <th>Layer Name</th>\n",
              "      <th>Layer Trainable</th>\n",
              "    </tr>\n",
              "  </thead>\n",
              "  <tbody>\n",
              "    <tr>\n",
              "      <th>0</th>\n",
              "      <td>&lt;keras.engine.input_layer.InputLayer object at 0x7efed45eba50&gt;</td>\n",
              "      <td>input_9</td>\n",
              "      <td>False</td>\n",
              "    </tr>\n",
              "    <tr>\n",
              "      <th>1</th>\n",
              "      <td>&lt;keras.layers.reshaping.zero_padding2d.ZeroPadding2D object at 0x7efed5373b10&gt;</td>\n",
              "      <td>conv1_pad</td>\n",
              "      <td>False</td>\n",
              "    </tr>\n",
              "    <tr>\n",
              "      <th>2</th>\n",
              "      <td>&lt;keras.layers.convolutional.conv2d.Conv2D object at 0x7efed5373c10&gt;</td>\n",
              "      <td>conv1_conv</td>\n",
              "      <td>False</td>\n",
              "    </tr>\n",
              "    <tr>\n",
              "      <th>3</th>\n",
              "      <td>&lt;keras.layers.normalization.batch_normalization.BatchNormalization object at 0x7efee7ce8e90&gt;</td>\n",
              "      <td>conv1_bn</td>\n",
              "      <td>False</td>\n",
              "    </tr>\n",
              "    <tr>\n",
              "      <th>4</th>\n",
              "      <td>&lt;keras.layers.core.activation.Activation object at 0x7efed45d6810&gt;</td>\n",
              "      <td>conv1_relu</td>\n",
              "      <td>False</td>\n",
              "    </tr>\n",
              "    <tr>\n",
              "      <th>...</th>\n",
              "      <td>...</td>\n",
              "      <td>...</td>\n",
              "      <td>...</td>\n",
              "    </tr>\n",
              "    <tr>\n",
              "      <th>170</th>\n",
              "      <td>&lt;keras.layers.core.activation.Activation object at 0x7eff0c0e2b50&gt;</td>\n",
              "      <td>conv5_block3_2_relu</td>\n",
              "      <td>False</td>\n",
              "    </tr>\n",
              "    <tr>\n",
              "      <th>171</th>\n",
              "      <td>&lt;keras.layers.convolutional.conv2d.Conv2D object at 0x7efe6a0fa250&gt;</td>\n",
              "      <td>conv5_block3_3_conv</td>\n",
              "      <td>False</td>\n",
              "    </tr>\n",
              "    <tr>\n",
              "      <th>172</th>\n",
              "      <td>&lt;keras.layers.normalization.batch_normalization.BatchNormalization object at 0x7efee6b95650&gt;</td>\n",
              "      <td>conv5_block3_3_bn</td>\n",
              "      <td>False</td>\n",
              "    </tr>\n",
              "    <tr>\n",
              "      <th>173</th>\n",
              "      <td>&lt;keras.layers.merging.add.Add object at 0x7efed41c3e10&gt;</td>\n",
              "      <td>conv5_block3_add</td>\n",
              "      <td>False</td>\n",
              "    </tr>\n",
              "    <tr>\n",
              "      <th>174</th>\n",
              "      <td>&lt;keras.layers.core.activation.Activation object at 0x7efee68df0d0&gt;</td>\n",
              "      <td>conv5_block3_out</td>\n",
              "      <td>False</td>\n",
              "    </tr>\n",
              "  </tbody>\n",
              "</table>\n",
              "<p>175 rows × 3 columns</p>\n",
              "</div>\n",
              "      <button class=\"colab-df-convert\" onclick=\"convertToInteractive('df-e72b496e-555d-4b57-81db-4660bcb2f525')\"\n",
              "              title=\"Convert this dataframe to an interactive table.\"\n",
              "              style=\"display:none;\">\n",
              "        \n",
              "  <svg xmlns=\"http://www.w3.org/2000/svg\" height=\"24px\"viewBox=\"0 0 24 24\"\n",
              "       width=\"24px\">\n",
              "    <path d=\"M0 0h24v24H0V0z\" fill=\"none\"/>\n",
              "    <path d=\"M18.56 5.44l.94 2.06.94-2.06 2.06-.94-2.06-.94-.94-2.06-.94 2.06-2.06.94zm-11 1L8.5 8.5l.94-2.06 2.06-.94-2.06-.94L8.5 2.5l-.94 2.06-2.06.94zm10 10l.94 2.06.94-2.06 2.06-.94-2.06-.94-.94-2.06-.94 2.06-2.06.94z\"/><path d=\"M17.41 7.96l-1.37-1.37c-.4-.4-.92-.59-1.43-.59-.52 0-1.04.2-1.43.59L10.3 9.45l-7.72 7.72c-.78.78-.78 2.05 0 2.83L4 21.41c.39.39.9.59 1.41.59.51 0 1.02-.2 1.41-.59l7.78-7.78 2.81-2.81c.8-.78.8-2.07 0-2.86zM5.41 20L4 18.59l7.72-7.72 1.47 1.35L5.41 20z\"/>\n",
              "  </svg>\n",
              "      </button>\n",
              "      \n",
              "  <style>\n",
              "    .colab-df-container {\n",
              "      display:flex;\n",
              "      flex-wrap:wrap;\n",
              "      gap: 12px;\n",
              "    }\n",
              "\n",
              "    .colab-df-convert {\n",
              "      background-color: #E8F0FE;\n",
              "      border: none;\n",
              "      border-radius: 50%;\n",
              "      cursor: pointer;\n",
              "      display: none;\n",
              "      fill: #1967D2;\n",
              "      height: 32px;\n",
              "      padding: 0 0 0 0;\n",
              "      width: 32px;\n",
              "    }\n",
              "\n",
              "    .colab-df-convert:hover {\n",
              "      background-color: #E2EBFA;\n",
              "      box-shadow: 0px 1px 2px rgba(60, 64, 67, 0.3), 0px 1px 3px 1px rgba(60, 64, 67, 0.15);\n",
              "      fill: #174EA6;\n",
              "    }\n",
              "\n",
              "    [theme=dark] .colab-df-convert {\n",
              "      background-color: #3B4455;\n",
              "      fill: #D2E3FC;\n",
              "    }\n",
              "\n",
              "    [theme=dark] .colab-df-convert:hover {\n",
              "      background-color: #434B5C;\n",
              "      box-shadow: 0px 1px 3px 1px rgba(0, 0, 0, 0.15);\n",
              "      filter: drop-shadow(0px 1px 2px rgba(0, 0, 0, 0.3));\n",
              "      fill: #FFFFFF;\n",
              "    }\n",
              "  </style>\n",
              "\n",
              "      <script>\n",
              "        const buttonEl =\n",
              "          document.querySelector('#df-e72b496e-555d-4b57-81db-4660bcb2f525 button.colab-df-convert');\n",
              "        buttonEl.style.display =\n",
              "          google.colab.kernel.accessAllowed ? 'block' : 'none';\n",
              "\n",
              "        async function convertToInteractive(key) {\n",
              "          const element = document.querySelector('#df-e72b496e-555d-4b57-81db-4660bcb2f525');\n",
              "          const dataTable =\n",
              "            await google.colab.kernel.invokeFunction('convertToInteractive',\n",
              "                                                     [key], {});\n",
              "          if (!dataTable) return;\n",
              "\n",
              "          const docLinkHtml = 'Like what you see? Visit the ' +\n",
              "            '<a target=\"_blank\" href=https://colab.research.google.com/notebooks/data_table.ipynb>data table notebook</a>'\n",
              "            + ' to learn more about interactive tables.';\n",
              "          element.innerHTML = '';\n",
              "          dataTable['output_type'] = 'display_data';\n",
              "          await google.colab.output.renderOutput(dataTable, element);\n",
              "          const docLink = document.createElement('div');\n",
              "          docLink.innerHTML = docLinkHtml;\n",
              "          element.appendChild(docLink);\n",
              "        }\n",
              "      </script>\n",
              "    </div>\n",
              "  </div>\n",
              "  "
            ]
          },
          "metadata": {},
          "execution_count": 83
        }
      ]
    },
    {
      "cell_type": "code",
      "source": [
        "pd.set_option('max_colwidth', -1)\n",
        "layers = [(layer, layer.name, layer.trainable) for layer in IV3.layers]\n",
        "pd.DataFrame(layers, columns=['Layer Type', 'Layer Name', 'Layer Trainable'])"
      ],
      "metadata": {
        "colab": {
          "base_uri": "https://localhost:8080/",
          "height": 478
        },
        "id": "4aO7QiFU4MhG",
        "outputId": "8dafb6bf-b619-4e6f-c419-ab6c76be45b9"
      },
      "execution_count": null,
      "outputs": [
        {
          "output_type": "stream",
          "name": "stderr",
          "text": [
            "/usr/local/lib/python3.7/dist-packages/ipykernel_launcher.py:1: FutureWarning: Passing a negative integer is deprecated in version 1.0 and will not be supported in future version. Instead, use None to not limit the column width.\n",
            "  \"\"\"Entry point for launching an IPython kernel.\n"
          ]
        },
        {
          "output_type": "execute_result",
          "data": {
            "text/plain": [
              "                                                                                       Layer Type  \\\n",
              "0    <keras.engine.input_layer.InputLayer object at 0x7efed45eba50>                                 \n",
              "1    <keras.layers.reshaping.zero_padding2d.ZeroPadding2D object at 0x7efed5373b10>                 \n",
              "2    <keras.layers.convolutional.conv2d.Conv2D object at 0x7efed5373c10>                            \n",
              "3    <keras.layers.normalization.batch_normalization.BatchNormalization object at 0x7efee7ce8e90>   \n",
              "4    <keras.layers.core.activation.Activation object at 0x7efed45d6810>                             \n",
              "..                                                                  ...                             \n",
              "170  <keras.layers.core.activation.Activation object at 0x7eff0c0e2b50>                             \n",
              "171  <keras.layers.convolutional.conv2d.Conv2D object at 0x7efe6a0fa250>                            \n",
              "172  <keras.layers.normalization.batch_normalization.BatchNormalization object at 0x7efee6b95650>   \n",
              "173  <keras.layers.merging.add.Add object at 0x7efed41c3e10>                                        \n",
              "174  <keras.layers.core.activation.Activation object at 0x7efee68df0d0>                             \n",
              "\n",
              "              Layer Name  Layer Trainable  \n",
              "0    input_9              False            \n",
              "1    conv1_pad            False            \n",
              "2    conv1_conv           False            \n",
              "3    conv1_bn             False            \n",
              "4    conv1_relu           False            \n",
              "..          ...             ...            \n",
              "170  conv5_block3_2_relu  False            \n",
              "171  conv5_block3_3_conv  False            \n",
              "172  conv5_block3_3_bn    False            \n",
              "173  conv5_block3_add     False            \n",
              "174  conv5_block3_out     False            \n",
              "\n",
              "[175 rows x 3 columns]"
            ],
            "text/html": [
              "\n",
              "  <div id=\"df-c8244748-6b10-4d49-945f-656a19a4198f\">\n",
              "    <div class=\"colab-df-container\">\n",
              "      <div>\n",
              "<style scoped>\n",
              "    .dataframe tbody tr th:only-of-type {\n",
              "        vertical-align: middle;\n",
              "    }\n",
              "\n",
              "    .dataframe tbody tr th {\n",
              "        vertical-align: top;\n",
              "    }\n",
              "\n",
              "    .dataframe thead th {\n",
              "        text-align: right;\n",
              "    }\n",
              "</style>\n",
              "<table border=\"1\" class=\"dataframe\">\n",
              "  <thead>\n",
              "    <tr style=\"text-align: right;\">\n",
              "      <th></th>\n",
              "      <th>Layer Type</th>\n",
              "      <th>Layer Name</th>\n",
              "      <th>Layer Trainable</th>\n",
              "    </tr>\n",
              "  </thead>\n",
              "  <tbody>\n",
              "    <tr>\n",
              "      <th>0</th>\n",
              "      <td>&lt;keras.engine.input_layer.InputLayer object at 0x7efed45eba50&gt;</td>\n",
              "      <td>input_9</td>\n",
              "      <td>False</td>\n",
              "    </tr>\n",
              "    <tr>\n",
              "      <th>1</th>\n",
              "      <td>&lt;keras.layers.reshaping.zero_padding2d.ZeroPadding2D object at 0x7efed5373b10&gt;</td>\n",
              "      <td>conv1_pad</td>\n",
              "      <td>False</td>\n",
              "    </tr>\n",
              "    <tr>\n",
              "      <th>2</th>\n",
              "      <td>&lt;keras.layers.convolutional.conv2d.Conv2D object at 0x7efed5373c10&gt;</td>\n",
              "      <td>conv1_conv</td>\n",
              "      <td>False</td>\n",
              "    </tr>\n",
              "    <tr>\n",
              "      <th>3</th>\n",
              "      <td>&lt;keras.layers.normalization.batch_normalization.BatchNormalization object at 0x7efee7ce8e90&gt;</td>\n",
              "      <td>conv1_bn</td>\n",
              "      <td>False</td>\n",
              "    </tr>\n",
              "    <tr>\n",
              "      <th>4</th>\n",
              "      <td>&lt;keras.layers.core.activation.Activation object at 0x7efed45d6810&gt;</td>\n",
              "      <td>conv1_relu</td>\n",
              "      <td>False</td>\n",
              "    </tr>\n",
              "    <tr>\n",
              "      <th>...</th>\n",
              "      <td>...</td>\n",
              "      <td>...</td>\n",
              "      <td>...</td>\n",
              "    </tr>\n",
              "    <tr>\n",
              "      <th>170</th>\n",
              "      <td>&lt;keras.layers.core.activation.Activation object at 0x7eff0c0e2b50&gt;</td>\n",
              "      <td>conv5_block3_2_relu</td>\n",
              "      <td>False</td>\n",
              "    </tr>\n",
              "    <tr>\n",
              "      <th>171</th>\n",
              "      <td>&lt;keras.layers.convolutional.conv2d.Conv2D object at 0x7efe6a0fa250&gt;</td>\n",
              "      <td>conv5_block3_3_conv</td>\n",
              "      <td>False</td>\n",
              "    </tr>\n",
              "    <tr>\n",
              "      <th>172</th>\n",
              "      <td>&lt;keras.layers.normalization.batch_normalization.BatchNormalization object at 0x7efee6b95650&gt;</td>\n",
              "      <td>conv5_block3_3_bn</td>\n",
              "      <td>False</td>\n",
              "    </tr>\n",
              "    <tr>\n",
              "      <th>173</th>\n",
              "      <td>&lt;keras.layers.merging.add.Add object at 0x7efed41c3e10&gt;</td>\n",
              "      <td>conv5_block3_add</td>\n",
              "      <td>False</td>\n",
              "    </tr>\n",
              "    <tr>\n",
              "      <th>174</th>\n",
              "      <td>&lt;keras.layers.core.activation.Activation object at 0x7efee68df0d0&gt;</td>\n",
              "      <td>conv5_block3_out</td>\n",
              "      <td>False</td>\n",
              "    </tr>\n",
              "  </tbody>\n",
              "</table>\n",
              "<p>175 rows × 3 columns</p>\n",
              "</div>\n",
              "      <button class=\"colab-df-convert\" onclick=\"convertToInteractive('df-c8244748-6b10-4d49-945f-656a19a4198f')\"\n",
              "              title=\"Convert this dataframe to an interactive table.\"\n",
              "              style=\"display:none;\">\n",
              "        \n",
              "  <svg xmlns=\"http://www.w3.org/2000/svg\" height=\"24px\"viewBox=\"0 0 24 24\"\n",
              "       width=\"24px\">\n",
              "    <path d=\"M0 0h24v24H0V0z\" fill=\"none\"/>\n",
              "    <path d=\"M18.56 5.44l.94 2.06.94-2.06 2.06-.94-2.06-.94-.94-2.06-.94 2.06-2.06.94zm-11 1L8.5 8.5l.94-2.06 2.06-.94-2.06-.94L8.5 2.5l-.94 2.06-2.06.94zm10 10l.94 2.06.94-2.06 2.06-.94-2.06-.94-.94-2.06-.94 2.06-2.06.94z\"/><path d=\"M17.41 7.96l-1.37-1.37c-.4-.4-.92-.59-1.43-.59-.52 0-1.04.2-1.43.59L10.3 9.45l-7.72 7.72c-.78.78-.78 2.05 0 2.83L4 21.41c.39.39.9.59 1.41.59.51 0 1.02-.2 1.41-.59l7.78-7.78 2.81-2.81c.8-.78.8-2.07 0-2.86zM5.41 20L4 18.59l7.72-7.72 1.47 1.35L5.41 20z\"/>\n",
              "  </svg>\n",
              "      </button>\n",
              "      \n",
              "  <style>\n",
              "    .colab-df-container {\n",
              "      display:flex;\n",
              "      flex-wrap:wrap;\n",
              "      gap: 12px;\n",
              "    }\n",
              "\n",
              "    .colab-df-convert {\n",
              "      background-color: #E8F0FE;\n",
              "      border: none;\n",
              "      border-radius: 50%;\n",
              "      cursor: pointer;\n",
              "      display: none;\n",
              "      fill: #1967D2;\n",
              "      height: 32px;\n",
              "      padding: 0 0 0 0;\n",
              "      width: 32px;\n",
              "    }\n",
              "\n",
              "    .colab-df-convert:hover {\n",
              "      background-color: #E2EBFA;\n",
              "      box-shadow: 0px 1px 2px rgba(60, 64, 67, 0.3), 0px 1px 3px 1px rgba(60, 64, 67, 0.15);\n",
              "      fill: #174EA6;\n",
              "    }\n",
              "\n",
              "    [theme=dark] .colab-df-convert {\n",
              "      background-color: #3B4455;\n",
              "      fill: #D2E3FC;\n",
              "    }\n",
              "\n",
              "    [theme=dark] .colab-df-convert:hover {\n",
              "      background-color: #434B5C;\n",
              "      box-shadow: 0px 1px 3px 1px rgba(0, 0, 0, 0.15);\n",
              "      filter: drop-shadow(0px 1px 2px rgba(0, 0, 0, 0.3));\n",
              "      fill: #FFFFFF;\n",
              "    }\n",
              "  </style>\n",
              "\n",
              "      <script>\n",
              "        const buttonEl =\n",
              "          document.querySelector('#df-c8244748-6b10-4d49-945f-656a19a4198f button.colab-df-convert');\n",
              "        buttonEl.style.display =\n",
              "          google.colab.kernel.accessAllowed ? 'block' : 'none';\n",
              "\n",
              "        async function convertToInteractive(key) {\n",
              "          const element = document.querySelector('#df-c8244748-6b10-4d49-945f-656a19a4198f');\n",
              "          const dataTable =\n",
              "            await google.colab.kernel.invokeFunction('convertToInteractive',\n",
              "                                                     [key], {});\n",
              "          if (!dataTable) return;\n",
              "\n",
              "          const docLinkHtml = 'Like what you see? Visit the ' +\n",
              "            '<a target=\"_blank\" href=https://colab.research.google.com/notebooks/data_table.ipynb>data table notebook</a>'\n",
              "            + ' to learn more about interactive tables.';\n",
              "          element.innerHTML = '';\n",
              "          dataTable['output_type'] = 'display_data';\n",
              "          await google.colab.output.renderOutput(dataTable, element);\n",
              "          const docLink = document.createElement('div');\n",
              "          docLink.innerHTML = docLinkHtml;\n",
              "          element.appendChild(docLink);\n",
              "        }\n",
              "      </script>\n",
              "    </div>\n",
              "  </div>\n",
              "  "
            ]
          },
          "metadata": {},
          "execution_count": 84
        }
      ]
    },
    {
      "cell_type": "code",
      "source": [
        "num_classes = 4\n",
        "model1 = keras.models.Sequential()\n",
        "model1.add(IV3)\n",
        "model1.add(keras.layers.Flatten())\n",
        "model1.add(keras.layers.Dense(512, activation='relu'))\n",
        "model1.add(keras.layers.Dropout(0.3))\n",
        "model1.add(keras.layers.Dense(512, activation='relu'))\n",
        "model1.add(keras.layers.Dropout(0.3))\n",
        "model1.add(keras.layers.Dense(num_classes, activation='softmax'))\n",
        "model1.summary()"
      ],
      "metadata": {
        "colab": {
          "base_uri": "https://localhost:8080/"
        },
        "id": "v3dD6HDw4OMV",
        "outputId": "0d6ace94-fb00-4147-acb8-52d89991121e"
      },
      "execution_count": null,
      "outputs": [
        {
          "output_type": "stream",
          "name": "stdout",
          "text": [
            "Model: \"sequential_8\"\n",
            "_________________________________________________________________\n",
            " Layer (type)                Output Shape              Param #   \n",
            "=================================================================\n",
            " resnet50 (Functional)       (None, 4, 3, 2048)        23587712  \n",
            "                                                                 \n",
            " flatten_8 (Flatten)         (None, 24576)             0         \n",
            "                                                                 \n",
            " dense_24 (Dense)            (None, 512)               12583424  \n",
            "                                                                 \n",
            " dropout_16 (Dropout)        (None, 512)               0         \n",
            "                                                                 \n",
            " dense_25 (Dense)            (None, 512)               262656    \n",
            "                                                                 \n",
            " dropout_17 (Dropout)        (None, 512)               0         \n",
            "                                                                 \n",
            " dense_26 (Dense)            (None, 4)                 2052      \n",
            "                                                                 \n",
            "=================================================================\n",
            "Total params: 36,435,844\n",
            "Trainable params: 12,848,132\n",
            "Non-trainable params: 23,587,712\n",
            "_________________________________________________________________\n"
          ]
        }
      ]
    },
    {
      "cell_type": "code",
      "source": [
        "callbacks = [tf.keras.callbacks.EarlyStopping(\n",
        "    monitor='val_loss',\n",
        "    min_delta=0.01,\n",
        "    patience=60,\n",
        "    verbose=0,\n",
        "    mode='auto',\n",
        "    baseline=None,\n",
        "    restore_best_weights=True\n",
        ")]\n",
        "model1.compile(loss='binary_crossentropy',\n",
        "              optimizer=keras.optimizers.Adam(lr=2e-5),\n",
        "              metrics=['accuracy'])"
      ],
      "metadata": {
        "colab": {
          "base_uri": "https://localhost:8080/"
        },
        "id": "jOwDqBZ_4P_l",
        "outputId": "4c90f8fe-19ba-4809-d488-8f81c9c9f41b"
      },
      "execution_count": null,
      "outputs": [
        {
          "output_type": "stream",
          "name": "stderr",
          "text": [
            "/usr/local/lib/python3.7/dist-packages/keras/optimizers/optimizer_v2/adam.py:110: UserWarning: The `lr` argument is deprecated, use `learning_rate` instead.\n",
            "  super(Adam, self).__init__(name, **kwargs)\n"
          ]
        }
      ]
    },
    {
      "cell_type": "code",
      "source": [
        "history = model1.fit(spec_train, train_labels, epochs=1000, validation_split = 0.2, callbacks = callbacks, verbose=1, batch_size = 288)"
      ],
      "metadata": {
        "colab": {
          "base_uri": "https://localhost:8080/"
        },
        "id": "M5F6ctC44R6Y",
        "outputId": "05511eac-40ae-4b25-8fb5-974fdd7ae76d"
      },
      "execution_count": null,
      "outputs": [
        {
          "output_type": "stream",
          "name": "stdout",
          "text": [
            "Epoch 1/1000\n",
            "1/1 [==============================] - 5s 5s/step - loss: 0.7871 - accuracy: 0.2261 - val_loss: 0.7217 - val_accuracy: 0.2414\n",
            "Epoch 2/1000\n",
            "1/1 [==============================] - 0s 417ms/step - loss: 0.7461 - accuracy: 0.2435 - val_loss: 0.6999 - val_accuracy: 0.2414\n",
            "Epoch 3/1000\n",
            "1/1 [==============================] - 0s 395ms/step - loss: 0.7173 - accuracy: 0.2478 - val_loss: 0.6798 - val_accuracy: 0.2414\n",
            "Epoch 4/1000\n",
            "1/1 [==============================] - 0s 397ms/step - loss: 0.7045 - accuracy: 0.2609 - val_loss: 0.6614 - val_accuracy: 0.2414\n",
            "Epoch 5/1000\n",
            "1/1 [==============================] - 0s 397ms/step - loss: 0.6910 - accuracy: 0.2043 - val_loss: 0.6452 - val_accuracy: 0.2414\n",
            "Epoch 6/1000\n",
            "1/1 [==============================] - 0s 403ms/step - loss: 0.6726 - accuracy: 0.2304 - val_loss: 0.6310 - val_accuracy: 0.2414\n",
            "Epoch 7/1000\n",
            "1/1 [==============================] - 0s 394ms/step - loss: 0.6451 - accuracy: 0.2174 - val_loss: 0.6187 - val_accuracy: 0.2414\n",
            "Epoch 8/1000\n",
            "1/1 [==============================] - 0s 407ms/step - loss: 0.6510 - accuracy: 0.2261 - val_loss: 0.6084 - val_accuracy: 0.2414\n",
            "Epoch 9/1000\n",
            "1/1 [==============================] - 0s 238ms/step - loss: 0.6381 - accuracy: 0.2696 - val_loss: 0.5996 - val_accuracy: 0.2414\n",
            "Epoch 10/1000\n",
            "1/1 [==============================] - 0s 399ms/step - loss: 0.6159 - accuracy: 0.2696 - val_loss: 0.5921 - val_accuracy: 0.2414\n",
            "Epoch 11/1000\n",
            "1/1 [==============================] - 0s 235ms/step - loss: 0.5992 - accuracy: 0.3261 - val_loss: 0.5859 - val_accuracy: 0.2414\n",
            "Epoch 12/1000\n",
            "1/1 [==============================] - 0s 401ms/step - loss: 0.6039 - accuracy: 0.2304 - val_loss: 0.5809 - val_accuracy: 0.2414\n",
            "Epoch 13/1000\n",
            "1/1 [==============================] - 0s 238ms/step - loss: 0.6051 - accuracy: 0.2478 - val_loss: 0.5769 - val_accuracy: 0.2414\n",
            "Epoch 14/1000\n",
            "1/1 [==============================] - 0s 236ms/step - loss: 0.6039 - accuracy: 0.2261 - val_loss: 0.5737 - val_accuracy: 0.2414\n",
            "Epoch 15/1000\n",
            "1/1 [==============================] - 0s 234ms/step - loss: 0.5855 - accuracy: 0.2435 - val_loss: 0.5714 - val_accuracy: 0.2414\n",
            "Epoch 16/1000\n",
            "1/1 [==============================] - 0s 397ms/step - loss: 0.5950 - accuracy: 0.2391 - val_loss: 0.5697 - val_accuracy: 0.2414\n",
            "Epoch 17/1000\n",
            "1/1 [==============================] - 0s 242ms/step - loss: 0.5958 - accuracy: 0.2174 - val_loss: 0.5685 - val_accuracy: 0.2414\n",
            "Epoch 18/1000\n",
            "1/1 [==============================] - 0s 239ms/step - loss: 0.5801 - accuracy: 0.2565 - val_loss: 0.5677 - val_accuracy: 0.3103\n",
            "Epoch 19/1000\n",
            "1/1 [==============================] - 0s 254ms/step - loss: 0.5933 - accuracy: 0.2217 - val_loss: 0.5672 - val_accuracy: 0.2931\n",
            "Epoch 20/1000\n",
            "1/1 [==============================] - 0s 240ms/step - loss: 0.5858 - accuracy: 0.2217 - val_loss: 0.5670 - val_accuracy: 0.2586\n",
            "Epoch 21/1000\n",
            "1/1 [==============================] - 0s 237ms/step - loss: 0.5903 - accuracy: 0.2652 - val_loss: 0.5671 - val_accuracy: 0.2414\n",
            "Epoch 22/1000\n",
            "1/1 [==============================] - 0s 241ms/step - loss: 0.5880 - accuracy: 0.2609 - val_loss: 0.5673 - val_accuracy: 0.2586\n",
            "Epoch 23/1000\n",
            "1/1 [==============================] - 0s 237ms/step - loss: 0.5798 - accuracy: 0.2478 - val_loss: 0.5676 - val_accuracy: 0.2586\n",
            "Epoch 24/1000\n",
            "1/1 [==============================] - 0s 236ms/step - loss: 0.5690 - accuracy: 0.2783 - val_loss: 0.5680 - val_accuracy: 0.2586\n",
            "Epoch 25/1000\n",
            "1/1 [==============================] - 0s 236ms/step - loss: 0.5881 - accuracy: 0.2000 - val_loss: 0.5684 - val_accuracy: 0.2586\n",
            "Epoch 26/1000\n",
            "1/1 [==============================] - 0s 243ms/step - loss: 0.5751 - accuracy: 0.3000 - val_loss: 0.5688 - val_accuracy: 0.2586\n",
            "Epoch 27/1000\n",
            "1/1 [==============================] - 0s 257ms/step - loss: 0.5815 - accuracy: 0.2348 - val_loss: 0.5692 - val_accuracy: 0.2586\n",
            "Epoch 28/1000\n",
            "1/1 [==============================] - 0s 240ms/step - loss: 0.5796 - accuracy: 0.2174 - val_loss: 0.5694 - val_accuracy: 0.2586\n",
            "Epoch 29/1000\n",
            "1/1 [==============================] - 0s 234ms/step - loss: 0.5768 - accuracy: 0.2826 - val_loss: 0.5697 - val_accuracy: 0.2586\n",
            "Epoch 30/1000\n",
            "1/1 [==============================] - 0s 240ms/step - loss: 0.5864 - accuracy: 0.2609 - val_loss: 0.5698 - val_accuracy: 0.2586\n",
            "Epoch 31/1000\n",
            "1/1 [==============================] - 0s 240ms/step - loss: 0.5728 - accuracy: 0.2609 - val_loss: 0.5698 - val_accuracy: 0.2586\n",
            "Epoch 32/1000\n",
            "1/1 [==============================] - 0s 237ms/step - loss: 0.5782 - accuracy: 0.2783 - val_loss: 0.5697 - val_accuracy: 0.2759\n",
            "Epoch 33/1000\n",
            "1/1 [==============================] - 0s 241ms/step - loss: 0.5860 - accuracy: 0.2348 - val_loss: 0.5696 - val_accuracy: 0.2586\n",
            "Epoch 34/1000\n",
            "1/1 [==============================] - 0s 255ms/step - loss: 0.5759 - accuracy: 0.2739 - val_loss: 0.5694 - val_accuracy: 0.2586\n",
            "Epoch 35/1000\n",
            "1/1 [==============================] - 0s 238ms/step - loss: 0.5855 - accuracy: 0.2261 - val_loss: 0.5691 - val_accuracy: 0.2759\n",
            "Epoch 36/1000\n",
            "1/1 [==============================] - 0s 238ms/step - loss: 0.5734 - accuracy: 0.2565 - val_loss: 0.5688 - val_accuracy: 0.2759\n",
            "Epoch 37/1000\n",
            "1/1 [==============================] - 0s 238ms/step - loss: 0.5827 - accuracy: 0.2087 - val_loss: 0.5684 - val_accuracy: 0.2759\n",
            "Epoch 38/1000\n",
            "1/1 [==============================] - 0s 243ms/step - loss: 0.5820 - accuracy: 0.2696 - val_loss: 0.5681 - val_accuracy: 0.2586\n",
            "Epoch 39/1000\n",
            "1/1 [==============================] - 0s 236ms/step - loss: 0.5785 - accuracy: 0.2435 - val_loss: 0.5677 - val_accuracy: 0.2586\n",
            "Epoch 40/1000\n",
            "1/1 [==============================] - 0s 242ms/step - loss: 0.5766 - accuracy: 0.2565 - val_loss: 0.5673 - val_accuracy: 0.2759\n",
            "Epoch 41/1000\n",
            "1/1 [==============================] - 0s 237ms/step - loss: 0.5734 - accuracy: 0.2783 - val_loss: 0.5669 - val_accuracy: 0.2931\n",
            "Epoch 42/1000\n",
            "1/1 [==============================] - 0s 241ms/step - loss: 0.5791 - accuracy: 0.2870 - val_loss: 0.5665 - val_accuracy: 0.2931\n",
            "Epoch 43/1000\n",
            "1/1 [==============================] - 0s 242ms/step - loss: 0.5773 - accuracy: 0.2391 - val_loss: 0.5662 - val_accuracy: 0.2931\n",
            "Epoch 44/1000\n",
            "1/1 [==============================] - 0s 244ms/step - loss: 0.5924 - accuracy: 0.1783 - val_loss: 0.5658 - val_accuracy: 0.2931\n",
            "Epoch 45/1000\n",
            "1/1 [==============================] - 0s 241ms/step - loss: 0.5836 - accuracy: 0.2000 - val_loss: 0.5655 - val_accuracy: 0.3103\n",
            "Epoch 46/1000\n",
            "1/1 [==============================] - 0s 229ms/step - loss: 0.5701 - accuracy: 0.2522 - val_loss: 0.5652 - val_accuracy: 0.3103\n",
            "Epoch 47/1000\n",
            "1/1 [==============================] - 0s 242ms/step - loss: 0.5788 - accuracy: 0.2565 - val_loss: 0.5649 - val_accuracy: 0.3103\n",
            "Epoch 48/1000\n",
            "1/1 [==============================] - 0s 245ms/step - loss: 0.5749 - accuracy: 0.2696 - val_loss: 0.5647 - val_accuracy: 0.2931\n",
            "Epoch 49/1000\n",
            "1/1 [==============================] - 0s 238ms/step - loss: 0.5785 - accuracy: 0.2609 - val_loss: 0.5645 - val_accuracy: 0.2759\n",
            "Epoch 50/1000\n",
            "1/1 [==============================] - 0s 239ms/step - loss: 0.5766 - accuracy: 0.2261 - val_loss: 0.5644 - val_accuracy: 0.2931\n",
            "Epoch 51/1000\n",
            "1/1 [==============================] - 0s 243ms/step - loss: 0.5722 - accuracy: 0.2739 - val_loss: 0.5643 - val_accuracy: 0.3103\n",
            "Epoch 52/1000\n",
            "1/1 [==============================] - 0s 251ms/step - loss: 0.5804 - accuracy: 0.2391 - val_loss: 0.5643 - val_accuracy: 0.2931\n",
            "Epoch 53/1000\n",
            "1/1 [==============================] - 0s 239ms/step - loss: 0.5845 - accuracy: 0.2304 - val_loss: 0.5643 - val_accuracy: 0.3103\n",
            "Epoch 54/1000\n",
            "1/1 [==============================] - 0s 248ms/step - loss: 0.5783 - accuracy: 0.2478 - val_loss: 0.5642 - val_accuracy: 0.2931\n",
            "Epoch 55/1000\n",
            "1/1 [==============================] - 0s 259ms/step - loss: 0.5744 - accuracy: 0.2870 - val_loss: 0.5642 - val_accuracy: 0.2414\n",
            "Epoch 56/1000\n",
            "1/1 [==============================] - 0s 262ms/step - loss: 0.5720 - accuracy: 0.2609 - val_loss: 0.5642 - val_accuracy: 0.2414\n",
            "Epoch 57/1000\n",
            "1/1 [==============================] - 0s 264ms/step - loss: 0.5788 - accuracy: 0.2348 - val_loss: 0.5642 - val_accuracy: 0.2586\n",
            "Epoch 58/1000\n",
            "1/1 [==============================] - 0s 274ms/step - loss: 0.5741 - accuracy: 0.2522 - val_loss: 0.5642 - val_accuracy: 0.2586\n",
            "Epoch 59/1000\n",
            "1/1 [==============================] - 0s 285ms/step - loss: 0.5823 - accuracy: 0.2478 - val_loss: 0.5642 - val_accuracy: 0.2586\n",
            "Epoch 60/1000\n",
            "1/1 [==============================] - 0s 261ms/step - loss: 0.5791 - accuracy: 0.2478 - val_loss: 0.5642 - val_accuracy: 0.2414\n",
            "Epoch 61/1000\n",
            "1/1 [==============================] - 0s 267ms/step - loss: 0.5682 - accuracy: 0.2522 - val_loss: 0.5643 - val_accuracy: 0.2414\n",
            "Epoch 62/1000\n",
            "1/1 [==============================] - 0s 269ms/step - loss: 0.5811 - accuracy: 0.2261 - val_loss: 0.5643 - val_accuracy: 0.2414\n",
            "Epoch 63/1000\n",
            "1/1 [==============================] - 0s 269ms/step - loss: 0.5825 - accuracy: 0.2304 - val_loss: 0.5644 - val_accuracy: 0.2241\n",
            "Epoch 64/1000\n",
            "1/1 [==============================] - 0s 281ms/step - loss: 0.5784 - accuracy: 0.2348 - val_loss: 0.5644 - val_accuracy: 0.2241\n",
            "Epoch 65/1000\n",
            "1/1 [==============================] - 0s 279ms/step - loss: 0.5683 - accuracy: 0.2783 - val_loss: 0.5644 - val_accuracy: 0.2414\n",
            "Epoch 66/1000\n",
            "1/1 [==============================] - 0s 262ms/step - loss: 0.5711 - accuracy: 0.2478 - val_loss: 0.5644 - val_accuracy: 0.2414\n",
            "Epoch 67/1000\n",
            "1/1 [==============================] - 0s 267ms/step - loss: 0.5743 - accuracy: 0.2913 - val_loss: 0.5644 - val_accuracy: 0.2586\n",
            "Epoch 68/1000\n",
            "1/1 [==============================] - 0s 233ms/step - loss: 0.5678 - accuracy: 0.2913 - val_loss: 0.5644 - val_accuracy: 0.2586\n",
            "Epoch 69/1000\n",
            "1/1 [==============================] - 0s 248ms/step - loss: 0.5824 - accuracy: 0.2696 - val_loss: 0.5643 - val_accuracy: 0.2586\n",
            "Epoch 70/1000\n",
            "1/1 [==============================] - 0s 245ms/step - loss: 0.5811 - accuracy: 0.2609 - val_loss: 0.5642 - val_accuracy: 0.2586\n",
            "Epoch 71/1000\n",
            "1/1 [==============================] - 0s 244ms/step - loss: 0.5725 - accuracy: 0.2696 - val_loss: 0.5642 - val_accuracy: 0.2586\n",
            "Epoch 72/1000\n",
            "1/1 [==============================] - 0s 244ms/step - loss: 0.5731 - accuracy: 0.2348 - val_loss: 0.5641 - val_accuracy: 0.2414\n",
            "Epoch 73/1000\n",
            "1/1 [==============================] - 0s 261ms/step - loss: 0.5719 - accuracy: 0.2565 - val_loss: 0.5641 - val_accuracy: 0.2414\n",
            "Epoch 74/1000\n",
            "1/1 [==============================] - 0s 244ms/step - loss: 0.5761 - accuracy: 0.2217 - val_loss: 0.5640 - val_accuracy: 0.2414\n",
            "Epoch 75/1000\n",
            "1/1 [==============================] - 0s 248ms/step - loss: 0.5866 - accuracy: 0.1870 - val_loss: 0.5640 - val_accuracy: 0.2414\n",
            "Epoch 76/1000\n",
            "1/1 [==============================] - 0s 411ms/step - loss: 0.5690 - accuracy: 0.3000 - val_loss: 0.5640 - val_accuracy: 0.2414\n"
          ]
        }
      ]
    },
    {
      "cell_type": "code",
      "source": [
        "#Plotting model history\n",
        "plt.plot(history.history['accuracy'])\n",
        "plt.plot(history.history['val_accuracy'])\n",
        "\n",
        "plt.legend(['Training Accuracy', 'Validation Accuracy'])\n",
        "plt.title('Accuracy History')\n",
        "plt.ylabel('Value')\n",
        "plt.xlabel('epochs')\n",
        "plt.show()\n",
        "\n",
        "#Plotting model history\n",
        "plt.plot(history.history['loss'])\n",
        "plt.plot(history.history['val_loss'])\n",
        "plt.legend(['Training Loss', 'Validation Loss'])\n",
        "plt.title('Loss History')\n",
        "plt.ylabel('Value')\n",
        "plt.xlabel('epochs')\n",
        "plt.show()\n",
        "\n",
        "print(\"Initial Training accuracy: \", history.history['accuracy'][0])\n",
        "print(\"Best Training accuracy: \", np.max(history.history['accuracy']))\n",
        "print(\"Initial Training loss: \", history.history['loss'][0])\n",
        "print(\"Best Training loss: \", history.history['loss'][np.argmax(history.history['accuracy'])])\n",
        "print(\"Initial Validation accuracy: \", history.history['val_accuracy'][0])\n",
        "print(\"Best Validation accuracy: \", np.max(history.history['val_accuracy']))\n",
        "print(\"Initial Validation loss: \", history.history['val_loss'][0])\n",
        "print(\"Best Validation loss: \", history.history['val_loss'][np.argmax(history.history['val_accuracy'])])"
      ],
      "metadata": {
        "colab": {
          "base_uri": "https://localhost:8080/",
          "height": 712
        },
        "id": "pqH6Y5RD4T9F",
        "outputId": "c7bdae95-9227-4339-e444-f20b9b2797a8"
      },
      "execution_count": null,
      "outputs": [
        {
          "output_type": "display_data",
          "data": {
            "text/plain": [
              "<Figure size 432x288 with 1 Axes>"
            ],
            "image/png": "[encoded data removed]"
          },
          "metadata": {
            "needs_background": "light"
          }
        },
        {
          "output_type": "display_data",
          "data": {
            "text/plain": [
              "<Figure size 432x288 with 1 Axes>"
            ],
            "image/png": "[encoded data removed]"
          },
          "metadata": {
            "needs_background": "light"
          }
        },
        {
          "output_type": "stream",
          "name": "stdout",
          "text": [
            "Initial Training accuracy:  0.22608695924282074\n",
            "Best Training accuracy:  0.32608696818351746\n",
            "Initial Training loss:  0.787082850933075\n",
            "Best Training loss:  0.5991814136505127\n",
            "Initial Validation accuracy:  0.24137930572032928\n",
            "Best Validation accuracy:  0.3103448152542114\n",
            "Initial Validation loss:  0.721675455570221\n",
            "Best Validation loss:  0.5676809549331665\n"
          ]
        }
      ]
    },
    {
      "cell_type": "code",
      "source": [],
      "metadata": {
        "id": "5Q0VvfdQczYw"
      },
      "execution_count": null,
      "outputs": []
    }
  ]
}